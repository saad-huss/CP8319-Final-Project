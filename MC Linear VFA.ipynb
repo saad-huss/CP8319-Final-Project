{
 "cells": [
  {
   "cell_type": "code",
   "execution_count": 1,
   "metadata": {},
   "outputs": [],
   "source": [
    "import pandas as pd\n",
    "import numpy as np\n",
    "import yfinance as yf"
   ]
  },
  {
   "cell_type": "markdown",
   "metadata": {},
   "source": [
    "Function to randomly sample an action"
   ]
  },
  {
   "cell_type": "code",
   "execution_count": 2,
   "metadata": {},
   "outputs": [],
   "source": [
    "def sample_action(policy, action , state):\n",
    "    return np.random.choice(len(action), p=policy[state])"
   ]
  },
  {
   "cell_type": "markdown",
   "metadata": {},
   "source": [
    "Function to generate a random episode"
   ]
  },
  {
   "cell_type": "code",
   "execution_count": 3,
   "metadata": {},
   "outputs": [],
   "source": [
    "def generate_episode(policy, action, state):\n",
    "    episode = [sample_action(policy, action, state[s]) for s in range(len(state))]\n",
    "    \n",
    "    return episode"
   ]
  },
  {
   "cell_type": "markdown",
   "metadata": {},
   "source": [
    "Function that calculates the average value of the holdings in the portfolio"
   ]
  },
  {
   "cell_type": "code",
   "execution_count": 4,
   "metadata": {},
   "outputs": [],
   "source": [
    "def average_price(price, holdings, holdings_list, price_list):\n",
    "    holdings_list.append(holdings)\n",
    "    price_list.append(price)\n",
    "    \n",
    "    init_price = price_list[0]\n",
    "    init_holdings = holdings_list[0]\n",
    "    \n",
    "    delta_holdings = []\n",
    "\n",
    "    \n",
    "    if len(price_list) == 1:\n",
    "        return price_list[0], holdings_list, price_list\n",
    "    \n",
    "    else:\n",
    "        for x, y in zip(holdings_list, holdings_list[1:]):\n",
    "            delta_holdings.append(y - x)\n",
    "    \n",
    "        avg_price =  ( np.dot(price_list[1:], delta_holdings) + init_price*init_holdings ) / (init_holdings + np.sum(delta_holdings))\n",
    "        return avg_price, holdings_list, price_list"
   ]
  },
  {
   "cell_type": "markdown",
   "metadata": {},
   "source": [
    "Function that determines total portfolio value"
   ]
  },
  {
   "cell_type": "code",
   "execution_count": 5,
   "metadata": {},
   "outputs": [],
   "source": [
    "def portfolio_value(holdings, cash, price, holdings_list, price_list, action):\n",
    "    if action == 0:\n",
    "        cash -= price\n",
    "        holdings += 1\n",
    "  \n",
    "    if action == 1:\n",
    "        cash += price\n",
    "        holdings -= 1\n",
    "        \n",
    "    if action == 2:\n",
    "        pass\n",
    "    \n",
    "    avg_price, holdings_list, price_list = average_price(price, holdings, holdings_list, price_list)\n",
    "    \n",
    "    return avg_price, holdings_list, price_list, holdings, cash"
   ]
  },
  {
   "cell_type": "markdown",
   "metadata": {},
   "source": [
    "Function that determines the reward. It outputs a list that contains the reward at each decision epoch in the episode."
   ]
  },
  {
   "cell_type": "code",
   "execution_count": 6,
   "metadata": {},
   "outputs": [],
   "source": [
    "def generate_returns(episode, price, cash_s1, holdings_s1, price_list, holdings_list, gamma):\n",
    "    p_v = []\n",
    "    avg_price = price_list[0]\n",
    "    \n",
    "    for s in range(len(episode)):\n",
    "        \n",
    "        avg_price, holdings_list, price_list, holdings_s1, cash_s1 = portfolio_value(holdings_s1, cash_s1, price[s], holdings_list, price_list, episode[s])\n",
    "#         print(avg_price, holdings_list, price_list, holdings_s1, cash_s1)\n",
    "        \n",
    "        #store portfolio values in list at each time step\n",
    "        p_v.append(cash_s1 + price[s]*holdings_s1)\n",
    "    \n",
    "    rew = []\n",
    "    for x,y in zip(p_v, p_v[1:]):\n",
    "        rew.append(y - x)\n",
    "    rew.append(0)\n",
    "        \n",
    "    gamma_list = np.array([gamma**i for i in range(len(episode))])\n",
    "#     print(p_v)\n",
    "    return np.dot(gamma_list,rew), rew"
   ]
  },
  {
   "cell_type": "markdown",
   "metadata": {},
   "source": [
    "Helper function that calculates total returns of the portfolio"
   ]
  },
  {
   "cell_type": "code",
   "execution_count": 7,
   "metadata": {},
   "outputs": [],
   "source": [
    "def pf_returns(iterations, alpha, gamma, price, price_list, cash_s1, \n",
    "               holdings_s1, holdings_list, state, action, features, episode):\n",
    "    p_v = []\n",
    "    avg_price = price_list[0]\n",
    "    \n",
    "    for s in range(len(episode)):\n",
    "        \n",
    "        avg_price, holdings_list, price_list, holdings_s1, cash_s1 = portfolio_value(holdings_s1, cash_s1, price[s], holdings_list, price_list, episode[s])\n",
    "#         print(avg_price, holdings_list, price_list, holdings_s1, cash_s1)       \n",
    "        #store portfolio values in list at each time step\n",
    "        p_v.append(cash_s1 + price[s]*holdings_s1)\n",
    "        \n",
    "    return p_v"
   ]
  },
  {
   "cell_type": "markdown",
   "metadata": {},
   "source": [
    "Function that builds features. It outputs a list, with each element containing a sublist that holds the prices for three consecutive decision epochs. This is used to create x(s,a)"
   ]
  },
  {
   "cell_type": "code",
   "execution_count": 8,
   "metadata": {},
   "outputs": [],
   "source": [
    "def build_features(n, price):\n",
    "    features = []\n",
    "    \n",
    "    features = []\n",
    "    for i in range((n-1) ,len(price)):\n",
    "        features.append( price[i-(n-1):i+1] )\n",
    "\n",
    "    #initialize first (n-1) features as the initial price\n",
    "    for i in range(n-1):\n",
    "        features.insert(0, np.array([price[0],price[0],price[0]]) )\n",
    "        \n",
    "    return features"
   ]
  },
  {
   "cell_type": "markdown",
   "metadata": {},
   "source": [
    "Function to create x(s,a) for momentum investing using the features built using build_features function."
   ]
  },
  {
   "cell_type": "code",
   "execution_count": 9,
   "metadata": {},
   "outputs": [],
   "source": [
    "#Features for Momentum Investing\n",
    "def feature_actionValue(features, s, a):\n",
    "    x_sa = []\n",
    "\n",
    "    #if buying\n",
    "    if a==0:\n",
    "        if features[s][-1] > np.mean(features[s]):\n",
    "            x_sa.append( np.abs(features[s][-1] - np.mean(features[s]))*-1 )\n",
    "\n",
    "        else:\n",
    "            x_sa.append( np.abs(features[s][-1] - np.mean(features[s])) )\n",
    "\n",
    "        return np.array(x_sa)\n",
    "\n",
    "    #if selling\n",
    "    if a==1:\n",
    "        if features[s][-1] > np.mean(features[s]):\n",
    "            x_sa.append( np.abs(features[s][-1] - np.mean(features[s])) )\n",
    "\n",
    "        else:\n",
    "            x_sa.append( np.abs(features[s][-1] - np.mean(features[s]))*-1 )\n",
    "\n",
    "        return np.array(x_sa)"
   ]
  },
  {
   "cell_type": "markdown",
   "metadata": {},
   "source": [
    "Function to create x(s,a) for \"buy the dip\" investing using the features built using build_features function."
   ]
  },
  {
   "cell_type": "code",
   "execution_count": 10,
   "metadata": {},
   "outputs": [],
   "source": [
    "#Features for Buying the Dip\n",
    "# def feature_actionValue(features, s, a):\n",
    "#     x_sa = []\n",
    "\n",
    "#     #if buying\n",
    "#     if a==0:\n",
    "#         if features[s][-1] > np.mean(features[s]):\n",
    "#             x_sa.append( np.abs(features[s][-1] - np.mean(features[s])) )\n",
    "\n",
    "#         else:\n",
    "#             x_sa.append( np.abs(features[s][-1] - np.mean(features[s]))*(-1) )\n",
    "\n",
    "#         return np.array(x_sa)\n",
    "\n",
    "#     #if selling\n",
    "#     if a==1:\n",
    "#         if features[s][-1] > np.mean(features[s]):\n",
    "#             x_sa.append( np.abs(features[s][-1] - np.mean(features[s]))*(-1) )\n",
    "\n",
    "#         else:\n",
    "#             x_sa.append( np.abs(features[s][-1] - np.mean(features[s])) )\n",
    "\n",
    "#         return np.array(x_sa)"
   ]
  },
  {
   "cell_type": "markdown",
   "metadata": {},
   "source": [
    "Implementation of linear VFA Policy Evaluation and epsilon-greedy policy improvement using pseudocode in lecture slides."
   ]
  },
  {
   "cell_type": "code",
   "execution_count": 11,
   "metadata": {},
   "outputs": [],
   "source": [
    "def MC_linearVFA_2(iterations, alpha, gamma, price, cash_s1, holdings_s1, state, action, features):\n",
    "    \n",
    "    nS = len(state)\n",
    "    nA = len(action)\n",
    "    \n",
    "    policy = np.ones((nS,nA))/nA  # initially all actions are equally likely\n",
    "    epsilon = 1\n",
    "    eps_final = 0.001\n",
    "    decay_rate = (epsilon - eps_final)/iterations\n",
    "    \n",
    "    #only considering 1 features\n",
    "    weight = np.array([0]*1)\n",
    "    \n",
    "    for k in range(1,iterations):\n",
    "#         print(k)\n",
    "        episode = generate_episode(policy, action, state)\n",
    "        holdings_list = [1000]\n",
    "        price_list = [price[0]]\n",
    "        \n",
    "        _, rw = generate_returns(episode, price, cash_s1, holdings_s1, price_list, holdings_list, gamma)\n",
    "        \n",
    "        for s in range(len(episode)):\n",
    "            all_acts = [0,1]\n",
    "            a = episode[s]\n",
    "            x_sa = feature_actionValue(features,s,a)\n",
    "            G = sum(rw[s:])\n",
    "            \n",
    "            \n",
    "            Q_value = np.dot(x_sa, weight)\n",
    "            weight = weight + alpha*(G - Q_value)*x_sa\n",
    "            \n",
    "            all_acts.remove(a)\n",
    "            other_a = all_acts[0]\n",
    "            \n",
    "            x_sa_other = feature_actionValue(features, s, other_a)\n",
    "            Q_other = np.dot(x_sa_other, weight)\n",
    "\n",
    "            \n",
    "            if Q_value > Q_other:\n",
    "                policy[s][a] = epsilon/nA + (1 - epsilon)\n",
    "                policy[s][other_a] = epsilon/nA\n",
    "        \n",
    "            if Q_other > Q_value:\n",
    "                policy[s][other_a] = epsilon/nA + (1 - epsilon)\n",
    "                policy[s][a] = epsilon/nA\n",
    "            \n",
    "        epsilon -= decay_rate\n",
    "    \n",
    "    det_pol = np.argmax(policy, axis = 1)\n",
    "    \n",
    "    return det_pol, weight, policy"
   ]
  },
  {
   "cell_type": "markdown",
   "metadata": {},
   "source": [
    "extract stock price data from yfinance library, and setting model parameters."
   ]
  },
  {
   "cell_type": "code",
   "execution_count": 17,
   "metadata": {},
   "outputs": [
    {
     "name": "stdout",
     "output_type": "stream",
     "text": [
      "[*********************100%***********************]  1 of 1 completed\n"
     ]
    }
   ],
   "source": [
    "aapl = yf.download('HD','2019-01-01','2019-12-31')\n",
    "\n",
    "price = list(np.round(list(aapl[\"Close\"]),2))\n",
    "action = [0,1]\n",
    "state = np.arange(len(price))\n",
    "\n",
    "iterations = 2000\n",
    "gamma = 0.9\n",
    "alpha = 0.05\n",
    "holdings_list = [1000]\n",
    "holdings_s1 = holdings_list[0]\n",
    "price_list = [price[0]]\n",
    "cash_s1 = 10000\n",
    "\n",
    "features = build_features(3,price)\n",
    "\n",
    "opt_pol, wgt, pol = MC_linearVFA_2(iterations, alpha, gamma, price, cash_s1, holdings_s1, state, action, features)"
   ]
  },
  {
   "cell_type": "markdown",
   "metadata": {},
   "source": [
    "Printing the total returns"
   ]
  },
  {
   "cell_type": "code",
   "execution_count": 18,
   "metadata": {},
   "outputs": [
    {
     "name": "stdout",
     "output_type": "stream",
     "text": [
      "The total returns is $ 228130.75\n"
     ]
    }
   ],
   "source": [
    "returns = pf_returns(iterations, alpha, gamma, price, price_list, cash_s1, holdings_s1, holdings_list, state, action, features, opt_pol)[-1]\n",
    "\n",
    "print(\"The total returns is $\",returns)"
   ]
  },
  {
   "cell_type": "markdown",
   "metadata": {},
   "source": [
    "Plotting the results for a subset of the time horizon"
   ]
  },
  {
   "cell_type": "code",
   "execution_count": 19,
   "metadata": {
    "scrolled": true
   },
   "outputs": [
    {
     "data": {
      "image/png": "[encoded data removed]",
      "text/plain": [
       "<Figure size 432x288 with 1 Axes>"
      ]
     },
     "metadata": {
      "needs_background": "light"
     },
     "output_type": "display_data"
    }
   ],
   "source": [
    "import matplotlib.pyplot as plt\n",
    "\n",
    "opt_pol = np.array(opt_pol[50:100])\n",
    "price = np.array(price[50:100])\n",
    "\n",
    "ind_zero  = np.where(opt_pol==0)[0]\n",
    "ind_ones  = np.where(opt_pol==1)[0]\n",
    "\n",
    "plt.plot(price)\n",
    "plt.title('Learned Actions - Linear VFA')\n",
    "plt.xlabel(\"Subset of Time Horizon\")\n",
    "plt.ylabel(\"Price\")\n",
    "buy = plt.scatter(ind_zero,price[ind_zero], marker='o', c='green')\n",
    "sell = plt.scatter(ind_ones, price[ind_ones], marker='x', c='k')\n",
    "\n",
    "plt.legend((buy,sell),\n",
    "           ('buy','sell'),\n",
    "           scatterpoints=1,\n",
    "           loc='lower left',\n",
    "           ncol=3,\n",
    "           fontsize=8)\n",
    "plt.show()"
   ]
  },
  {
   "cell_type": "code",
   "execution_count": null,
   "metadata": {},
   "outputs": [],
   "source": []
  },
  {
   "cell_type": "code",
   "execution_count": null,
   "metadata": {},
   "outputs": [],
   "source": []
  }
 ],
 "metadata": {
  "kernelspec": {
   "display_name": "Python 3",
   "language": "python",
   "name": "python3"
  },
  "language_info": {
   "codemirror_mode": {
    "name": "ipython",
    "version": 3
   },
   "file_extension": ".py",
   "mimetype": "text/x-python",
   "name": "python",
   "nbconvert_exporter": "python",
   "pygments_lexer": "ipython3",
   "version": "3.7.3"
  }
 },
 "nbformat": 4,
 "nbformat_minor": 2
}
