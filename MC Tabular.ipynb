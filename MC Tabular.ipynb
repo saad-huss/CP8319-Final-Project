{
 "cells": [
  {
   "cell_type": "code",
   "execution_count": 40,
   "metadata": {},
   "outputs": [],
   "source": [
    "import pandas as pd\n",
    "import numpy as np\n",
    "import yfinance as yf"
   ]
  },
  {
   "cell_type": "markdown",
   "metadata": {},
   "source": [
    "Function to randomly sample an action"
   ]
  },
  {
   "cell_type": "code",
   "execution_count": 41,
   "metadata": {},
   "outputs": [],
   "source": [
    "def sample_action(policy, action , state):\n",
    "    return np.random.choice(len(action), p=policy[state])"
   ]
  },
  {
   "cell_type": "markdown",
   "metadata": {},
   "source": [
    "Function to generate a random episode"
   ]
  },
  {
   "cell_type": "code",
   "execution_count": 42,
   "metadata": {},
   "outputs": [],
   "source": [
    "def generate_episode(policy, action, state):\n",
    "    episode = [sample_action(policy, action, state[s]) for s in range(len(state))]\n",
    "    \n",
    "    return episode"
   ]
  },
  {
   "cell_type": "markdown",
   "metadata": {},
   "source": [
    "Function for epsilon-greedy policy improvement"
   ]
  },
  {
   "cell_type": "code",
   "execution_count": 44,
   "metadata": {},
   "outputs": [],
   "source": [
    "def epsilon_greedy_policy_improve(Q_value, nS, nA, epsilon, new_policy):\n",
    "    for s in range(nS):\n",
    "        #for each state, store the argmax(Q_value) in a list\n",
    "        possible_action = np.argwhere(Q_value[s] == np.amax(Q_value[s])).flatten().tolist()\n",
    "        \n",
    "        #for each (s,a), if there are multiple actions that maximize Q(s), then update the greedy-epsilon policy \n",
    "        for a in range(nA):\n",
    "            if a in possible_action:\n",
    "                new_policy[s][a] = epsilon/nA + (1 - epsilon)/len(possible_action)\n",
    "                \n",
    "            else:\n",
    "                new_policy[s][a] = epsilon/nA\n",
    "    \n",
    "    return new_policy"
   ]
  },
  {
   "cell_type": "markdown",
   "metadata": {},
   "source": [
    "Function that calculates the average value of the holdings in the portfolio"
   ]
  },
  {
   "cell_type": "code",
   "execution_count": 45,
   "metadata": {},
   "outputs": [],
   "source": [
    "def average_price(price, holdings, holdings_list, price_list):\n",
    "    holdings_list.append(holdings)\n",
    "    price_list.append(price)\n",
    "    \n",
    "    init_price = price_list[0]\n",
    "    init_holdings = holdings_list[0]\n",
    "    \n",
    "    delta_holdings = []\n",
    "\n",
    "    \n",
    "    if len(price_list) == 1:\n",
    "        return price_list[0], holdings_list, price_list\n",
    "    \n",
    "    else:\n",
    "        for x, y in zip(holdings_list, holdings_list[1:]):\n",
    "            delta_holdings.append(y - x)\n",
    "    \n",
    "        avg_price =  ( np.dot(price_list[1:], delta_holdings) + init_price*init_holdings ) / (init_holdings + np.sum(delta_holdings))\n",
    "        return avg_price, holdings_list, price_list"
   ]
  },
  {
   "cell_type": "markdown",
   "metadata": {},
   "source": [
    "Function that determines total portfolio value"
   ]
  },
  {
   "cell_type": "code",
   "execution_count": 46,
   "metadata": {},
   "outputs": [],
   "source": [
    "def portfolio_value(holdings, cash, price, holdings_list, price_list, action):\n",
    "    if action == 0:\n",
    "        cash -= price\n",
    "        holdings += 1\n",
    "  \n",
    "    if action == 1:\n",
    "        cash += price\n",
    "        holdings -= 1\n",
    "        \n",
    "    if action == 2:\n",
    "        pass\n",
    "    \n",
    "    avg_price, holdings_list, price_list = average_price(price, holdings, holdings_list, price_list)\n",
    "    \n",
    "    return avg_price, holdings_list, price_list, holdings, cash"
   ]
  },
  {
   "cell_type": "markdown",
   "metadata": {},
   "source": [
    "Function that determines the reward. It outputs a list that contains the reward at each decision epoch in the episode."
   ]
  },
  {
   "cell_type": "code",
   "execution_count": 47,
   "metadata": {},
   "outputs": [],
   "source": [
    "def generate_returns(episode, price, cash_s1, holdings_s1, price_list, holdings_list, gamma):\n",
    "    p_v = []\n",
    "    avg_price = price_list[0]\n",
    "    \n",
    "    for s in range(len(episode)):\n",
    "        \n",
    "        avg_price, holdings_list, price_list, holdings_s1, cash_s1 = portfolio_value(holdings_s1, cash_s1, price[s], holdings_list, price_list, episode[s])\n",
    "        \n",
    "        #store portfolio values in list at each time step\n",
    "        p_v.append(cash_s1 + price[s]*holdings_s1)\n",
    "    \n",
    "    rew = []\n",
    "    for x,y in zip(p_v, p_v[1:]):\n",
    "        rew.append(y - x)\n",
    "    rew.append(0)\n",
    "        \n",
    "    gamma_list = np.array([gamma**i for i in range(len(episode))])\n",
    "\n",
    "    return np.dot(gamma_list,rew), rew"
   ]
  },
  {
   "cell_type": "markdown",
   "metadata": {},
   "source": [
    "Helper function that calculates total returns of the portfolio"
   ]
  },
  {
   "cell_type": "code",
   "execution_count": 48,
   "metadata": {},
   "outputs": [],
   "source": [
    "def pf_returns(episode, price, cash_s1, holdings_s1, price_list, holdings_list, gamma):\n",
    "    p_v = []\n",
    "    avg_price = price_list[0]\n",
    "    \n",
    "    for s in range(len(episode)):\n",
    "        \n",
    "        avg_price, holdings_list, price_list, holdings_s1, cash_s1 = portfolio_value(holdings_s1, cash_s1, price[s], holdings_list, price_list, episode[s])\n",
    "     \n",
    "        #store portfolio values in list at each time step\n",
    "        p_v.append(cash_s1 + price[s]*holdings_s1)\n",
    "        \n",
    "    return p_v"
   ]
  },
  {
   "cell_type": "markdown",
   "metadata": {},
   "source": [
    "function that executes MC Policy Evaluation"
   ]
  },
  {
   "cell_type": "code",
   "execution_count": 49,
   "metadata": {},
   "outputs": [],
   "source": [
    "def mc_policy_evaluation(policy, Q_value, price, cash_s1, holdings_s1, state, action, gamma=0.9):\n",
    "    #generate one episode\n",
    "    episode = generate_episode(policy, action, state)\n",
    "    \n",
    "    #initialize holdings list, with 1000 stock ownership in the beginning\n",
    "    holdings_list = [1000]\n",
    "    \n",
    "    price_list = [price[0]]\n",
    "  \n",
    "    #extract the discounted future rewards, and the immediate rewards\n",
    "    G, rw = generate_returns(episode, price, cash_s1, holdings_s1, price_list, holdings_list, gamma=0.9)\n",
    "    \n",
    "    num_visits = np.zeros((len(state),len(action)))\n",
    "    \n",
    "    visits = []\n",
    "\n",
    "    for v in range(len(episode)):\n",
    "        s = state[v]\n",
    "        a = episode[v]\n",
    "        r = rw[v]\n",
    "\n",
    "        if (s,a) not in visits:\n",
    "            num_visits[s][a] += 1\n",
    "            Q_value[s][a] += (1/num_visits[s][a])*(G - Q_value[s][a])\n",
    "            \n",
    "    return Q_value, holdings_list"
   ]
  },
  {
   "cell_type": "markdown",
   "metadata": {},
   "source": [
    "Function that implements Policy Improvement"
   ]
  },
  {
   "cell_type": "code",
   "execution_count": 50,
   "metadata": {},
   "outputs": [],
   "source": [
    "def mc_glie(iterations, gamma, price, cash_s1, holdings_s1, state, action):\n",
    "    nS = len(state)\n",
    "    nA = len(action)\n",
    "    Q_value = np.zeros((nS, nA))\n",
    "    policy = np.ones((nS,nA))/nA  # initially all actions are equally likely\n",
    "    epsilon = 1\n",
    "    \n",
    "    eps_final = 0.001\n",
    "    decay_rate = (epsilon - eps_final)/iterations \n",
    "\n",
    "    for k in range(1,iterations+1):   \n",
    "        Q_value, holdings_list = mc_policy_evaluation(policy, Q_value, price, cash_s1, holdings_s1, state, action, gamma=0.9)\n",
    "        policy = epsilon_greedy_policy_improve(Q_value, nS, nA, epsilon,policy)\n",
    "\n",
    "        epsilon -= decay_rate\n",
    "\n",
    "    det_policy = np.argmax(Q_value, axis=1)\n",
    "\n",
    "    return det_policy, holdings_list, Q_value"
   ]
  },
  {
   "cell_type": "markdown",
   "metadata": {},
   "source": [
    "extract stock price data from yfinance library, and setting model parameters."
   ]
  },
  {
   "cell_type": "code",
   "execution_count": 51,
   "metadata": {
    "scrolled": true
   },
   "outputs": [],
   "source": [
    "iterations = 1000\n",
    "gamma = 0.90\n",
    "\n",
    "price = list(np.round(list(aapl[\"Close\"]),2)[::10])\n",
    "action = [0,1,2]\n",
    "state = np.arange(len(price))\n",
    "\n",
    "nA = len(action)\n",
    "nS = len(price)\n",
    "holdings_list = [1000]\n",
    "holdings_s1 = holdings_list[0]\n",
    "price_list = [price[0]]\n",
    "\n",
    "cash_s1 = 10000\n",
    "opt_pol, holdings_list, Q_v = mc_glie(iterations, gamma, price, cash_s1, holdings_s1, state, action)"
   ]
  },
  {
   "cell_type": "markdown",
   "metadata": {},
   "source": [
    "Printing the total returns"
   ]
  },
  {
   "cell_type": "code",
   "execution_count": 52,
   "metadata": {},
   "outputs": [
    {
     "name": "stdout",
     "output_type": "stream",
     "text": [
      "The total returns is $ 82087.98000000001\n"
     ]
    }
   ],
   "source": [
    "returns = pf_returns(opt_pol, price, cash_s1, holdings_s1, [price[0]], [1000], gamma)[-1]\n",
    "\n",
    "print(\"The total returns is $\",returns)"
   ]
  }
 ],
 "metadata": {
  "kernelspec": {
   "display_name": "Python 3",
   "language": "python",
   "name": "python3"
  },
  "language_info": {
   "codemirror_mode": {
    "name": "ipython",
    "version": 3
   },
   "file_extension": ".py",
   "mimetype": "text/x-python",
   "name": "python",
   "nbconvert_exporter": "python",
   "pygments_lexer": "ipython3",
   "version": "3.7.3"
  }
 },
 "nbformat": 4,
 "nbformat_minor": 2
}
